{
 "cells": [
  {
   "cell_type": "code",
   "execution_count": 1,
   "metadata": {},
   "outputs": [],
   "source": [
    "import requests"
   ]
  },
  {
   "cell_type": "code",
   "execution_count": 10,
   "metadata": {},
   "outputs": [
    {
     "name": "stdout",
     "output_type": "stream",
     "text": [
      "Johann Sebastian Bach\n",
      "Ludwig van Beethoven\n",
      "Johannes Brahms\n",
      "Robert Schumann\n",
      "David Nathan\n",
      "Richard Wagner\n",
      "Felix Mendelssohn\n",
      "Rufus Beck\n",
      "Richard Strauss\n",
      "Dietmar Wunder\n",
      "Simon Jäger\n",
      "Georg Philipp Telemann\n",
      "Tangerine Dream\n",
      "James Last\n",
      "Marc Gruppe\n",
      "Detlef Bierstedt\n",
      "Frank Arnold\n",
      "Heino\n",
      "Die drei ???\n",
      "Uve Teschner\n",
      "Scorpions\n",
      "Andreas Fröhlich\n",
      "Michael Schwarzmaier\n",
      "Johannes Steck\n",
      "Howard Carpendale\n"
     ]
    }
   ],
   "source": [
    "# MusicBrainz API endpoint\n",
    "url = 'http://musicbrainz.org/ws/2/artist'\n",
    "\n",
    "# Search parameter\n",
    "params = {'query': 'country:' 'DE', 'fmt': 'json'}\n",
    "\n",
    "# Send Request - Response JSON format\n",
    "response = requests.get(url, params=params).json()\n",
    "\n",
    "for result in response['artists']:\n",
    "    print(result['name'])"
   ]
  },
  {
   "cell_type": "code",
   "execution_count": 1,
   "metadata": {},
   "outputs": [],
   "source": [
    "# Import the module\n",
    "import musicbrainzngs"
   ]
  },
  {
   "cell_type": "code",
   "execution_count": 3,
   "metadata": {},
   "outputs": [
    {
     "name": "stdout",
     "output_type": "stream",
     "text": [
      "fetching page number 1..\n"
     ]
    },
    {
     "ename": "UsageError",
     "evalue": "set a proper user-agent with set_useragent(\"application name\", \"application version\", \"contact info (preferably URL or email for your application)\")",
     "output_type": "error",
     "traceback": [
      "\u001b[1;31m---------------------------------------------------------------------------\u001b[0m",
      "\u001b[1;31mUsageError\u001b[0m                                Traceback (most recent call last)",
      "Cell \u001b[1;32mIn[3], line 7\u001b[0m\n\u001b[0;32m      5\u001b[0m page \u001b[39m=\u001b[39m \u001b[39m1\u001b[39m\n\u001b[0;32m      6\u001b[0m \u001b[39mprint\u001b[39m(\u001b[39m\"\u001b[39m\u001b[39mfetching page number \u001b[39m\u001b[39m%d\u001b[39;00m\u001b[39m..\u001b[39m\u001b[39m\"\u001b[39m \u001b[39m%\u001b[39m page)\n\u001b[1;32m----> 7\u001b[0m result \u001b[39m=\u001b[39m musicbrainzngs\u001b[39m.\u001b[39;49mbrowse_releases(label\u001b[39m=\u001b[39;49mlabel, includes\u001b[39m=\u001b[39;49m[\u001b[39m\"\u001b[39;49m\u001b[39mlabels\u001b[39;49m\u001b[39m\"\u001b[39;49m],\n\u001b[0;32m      8\u001b[0m                 release_type\u001b[39m=\u001b[39;49m[\u001b[39m\"\u001b[39;49m\u001b[39malbum\u001b[39;49m\u001b[39m\"\u001b[39;49m], limit\u001b[39m=\u001b[39;49mlimit)\n\u001b[0;32m      9\u001b[0m page_releases \u001b[39m=\u001b[39m result[\u001b[39m'\u001b[39m\u001b[39mrelease-list\u001b[39m\u001b[39m'\u001b[39m]\n\u001b[0;32m     10\u001b[0m releases \u001b[39m+\u001b[39m\u001b[39m=\u001b[39m page_releases\n",
      "File \u001b[1;32mc:\\Users\\matth\\Desktop\\project2\\datenerhebung-team-1\\env\\lib\\site-packages\\musicbrainzngs\\musicbrainz.py:1153\u001b[0m, in \u001b[0;36mbrowse_releases\u001b[1;34m(artist, track_artist, label, recording, release_group, release_status, release_type, includes, limit, offset)\u001b[0m\n\u001b[0;32m   1147\u001b[0m \u001b[39m# track_artist param doesn't work yet\u001b[39;00m\n\u001b[0;32m   1148\u001b[0m params \u001b[39m=\u001b[39m {\u001b[39m\"\u001b[39m\u001b[39martist\u001b[39m\u001b[39m\"\u001b[39m: artist,\n\u001b[0;32m   1149\u001b[0m           \u001b[39m\"\u001b[39m\u001b[39mtrack_artist\u001b[39m\u001b[39m\"\u001b[39m: track_artist,\n\u001b[0;32m   1150\u001b[0m           \u001b[39m\"\u001b[39m\u001b[39mlabel\u001b[39m\u001b[39m\"\u001b[39m: label,\n\u001b[0;32m   1151\u001b[0m           \u001b[39m\"\u001b[39m\u001b[39mrecording\u001b[39m\u001b[39m\"\u001b[39m: recording,\n\u001b[0;32m   1152\u001b[0m           \u001b[39m\"\u001b[39m\u001b[39mrelease-group\u001b[39m\u001b[39m\"\u001b[39m: release_group}\n\u001b[1;32m-> 1153\u001b[0m \u001b[39mreturn\u001b[39;00m _browse_impl(\u001b[39m\"\u001b[39;49m\u001b[39mrelease\u001b[39;49m\u001b[39m\"\u001b[39;49m, includes, limit, offset,\n\u001b[0;32m   1154\u001b[0m                     params, release_status, release_type)\n",
      "File \u001b[1;32mc:\\Users\\matth\\Desktop\\project2\\datenerhebung-team-1\\env\\lib\\site-packages\\musicbrainzngs\\musicbrainz.py:1076\u001b[0m, in \u001b[0;36m_browse_impl\u001b[1;34m(entity, includes, limit, offset, params, release_status, release_type)\u001b[0m\n\u001b[0;32m   1074\u001b[0m filterp \u001b[39m=\u001b[39m _check_filter_and_make_params(entity, includes, release_status, release_type)\n\u001b[0;32m   1075\u001b[0m p\u001b[39m.\u001b[39mupdate(filterp)\n\u001b[1;32m-> 1076\u001b[0m \u001b[39mreturn\u001b[39;00m _do_mb_query(entity, \u001b[39m\"\u001b[39;49m\u001b[39m\"\u001b[39;49m, includes, p)\n",
      "File \u001b[1;32mc:\\Users\\matth\\Desktop\\project2\\datenerhebung-team-1\\env\\lib\\site-packages\\musicbrainzngs\\musicbrainz.py:728\u001b[0m, in \u001b[0;36m_do_mb_query\u001b[1;34m(entity, id, includes, params)\u001b[0m\n\u001b[0;32m    726\u001b[0m \u001b[39m# Build the endpoint components.\u001b[39;00m\n\u001b[0;32m    727\u001b[0m path \u001b[39m=\u001b[39m \u001b[39m'\u001b[39m\u001b[39m%s\u001b[39;00m\u001b[39m/\u001b[39m\u001b[39m%s\u001b[39;00m\u001b[39m'\u001b[39m \u001b[39m%\u001b[39m (entity, \u001b[39mid\u001b[39m)\n\u001b[1;32m--> 728\u001b[0m \u001b[39mreturn\u001b[39;00m _mb_request(path, \u001b[39m'\u001b[39;49m\u001b[39mGET\u001b[39;49m\u001b[39m'\u001b[39;49m, auth_required, args\u001b[39m=\u001b[39;49margs)\n",
      "File \u001b[1;32mc:\\Users\\matth\\Desktop\\project2\\datenerhebung-team-1\\env\\lib\\site-packages\\musicbrainzngs\\musicbrainz.py:417\u001b[0m, in \u001b[0;36m_rate_limit.__call__\u001b[1;34m(self, *args, **kwargs)\u001b[0m\n\u001b[0;32m    415\u001b[0m     \u001b[39m# Call the original function, \"paying\" for this call.\u001b[39;00m\n\u001b[0;32m    416\u001b[0m     \u001b[39mself\u001b[39m\u001b[39m.\u001b[39mremaining_requests \u001b[39m-\u001b[39m\u001b[39m=\u001b[39m \u001b[39m1.0\u001b[39m\n\u001b[1;32m--> 417\u001b[0m \u001b[39mreturn\u001b[39;00m \u001b[39mself\u001b[39m\u001b[39m.\u001b[39mfun(\u001b[39m*\u001b[39margs, \u001b[39m*\u001b[39m\u001b[39m*\u001b[39mkwargs)\n",
      "File \u001b[1;32mc:\\Users\\matth\\Desktop\\project2\\datenerhebung-team-1\\env\\lib\\site-packages\\musicbrainzngs\\musicbrainz.py:624\u001b[0m, in \u001b[0;36m_mb_request\u001b[1;34m(path, method, auth_required, client_required, args, data, body)\u001b[0m\n\u001b[0;32m    621\u001b[0m     args \u001b[39m=\u001b[39m \u001b[39mdict\u001b[39m(args) \u001b[39mor\u001b[39;00m {}\n\u001b[0;32m    623\u001b[0m \u001b[39mif\u001b[39;00m _useragent \u001b[39m==\u001b[39m \u001b[39m\"\u001b[39m\u001b[39m\"\u001b[39m:\n\u001b[1;32m--> 624\u001b[0m     \u001b[39mraise\u001b[39;00m UsageError(\u001b[39m\"\u001b[39m\u001b[39mset a proper user-agent with \u001b[39m\u001b[39m\"\u001b[39m\n\u001b[0;32m    625\u001b[0m                      \u001b[39m\"\u001b[39m\u001b[39mset_useragent(\u001b[39m\u001b[39m\\\"\u001b[39;00m\u001b[39mapplication name\u001b[39m\u001b[39m\\\"\u001b[39;00m\u001b[39m, \u001b[39m\u001b[39m\\\"\u001b[39;00m\u001b[39mapplication version\u001b[39m\u001b[39m\\\"\u001b[39;00m\u001b[39m, \u001b[39m\u001b[39m\\\"\u001b[39;00m\u001b[39mcontact info (preferably URL or email for your application)\u001b[39m\u001b[39m\\\"\u001b[39;00m\u001b[39m)\u001b[39m\u001b[39m\"\u001b[39m)\n\u001b[0;32m    627\u001b[0m \u001b[39mif\u001b[39;00m client_required:\n\u001b[0;32m    628\u001b[0m     args[\u001b[39m\"\u001b[39m\u001b[39mclient\u001b[39m\u001b[39m\"\u001b[39m] \u001b[39m=\u001b[39m _client\n",
      "\u001b[1;31mUsageError\u001b[0m: set a proper user-agent with set_useragent(\"application name\", \"application version\", \"contact info (preferably URL or email for your application)\")"
     ]
    }
   ],
   "source": [
    "label = \"71247f6b-fd24-4a56-89a2-23512f006f0c\"\n",
    "limit = 30\n",
    "offset = 0\n",
    "releases = []\n",
    "page = 1\n",
    "print(\"fetching page number %d..\" % page)\n",
    "result = musicbrainzngs.browse_releases(label=label, includes=[\"labels\"],\n",
    "                release_type=[\"album\"], limit=limit)\n",
    "page_releases = result['release-list']\n",
    "releases += page_releases\n",
    "# release-count is only available starting with musicbrainzngs 0.5\n",
    "if \"release-count\" in result:\n",
    "        count = result['release-count']\n",
    "        print(\"\")\n",
    "while len(page_releases) >= limit:\n",
    "    offset += limit\n",
    "    page += 1\n",
    "    print(\"fetching page number %d..\" % page)\n",
    "    result = musicbrainzngs.browse_releases(label=label, includes=[\"labels\"],\n",
    "                        release_type=[\"album\"], limit=limit, offset=offset)\n",
    "    page_releases = result['release-list']\n",
    "    releases += page_releases\n",
    "print(\"\")\n",
    "for release in releases:\n",
    "    for label_info in release['label-info-list']:\n",
    "        catnum = label_info.get('catalog-number')\n",
    "        if label_info['label']['id'] == label and catnum:\n",
    "            print(\"{catnum:>17}: {date:10} {title}\".format(catnum=catnum,\n",
    "                        date=release['date'], title=release['title']))\n",
    "print(\"\\n%d releases on  %d pages\" % (len(releases), page))"
   ]
  },
  {
   "cell_type": "code",
   "execution_count": null,
   "metadata": {},
   "outputs": [],
   "source": []
  }
 ],
 "metadata": {
  "kernelspec": {
   "display_name": ".venv",
   "language": "python",
   "name": "python3"
  },
  "language_info": {
   "codemirror_mode": {
    "name": "ipython",
    "version": 3
   },
   "file_extension": ".py",
   "mimetype": "text/x-python",
   "name": "python",
   "nbconvert_exporter": "python",
   "pygments_lexer": "ipython3",
   "version": "3.10.10"
  },
  "orig_nbformat": 4
 },
 "nbformat": 4,
 "nbformat_minor": 2
}

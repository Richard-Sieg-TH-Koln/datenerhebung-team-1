{
 "cells": [
  {
   "cell_type": "code",
   "execution_count": 9,
   "metadata": {},
   "outputs": [],
   "source": [
    "import requests"
   ]
  },
  {
   "cell_type": "code",
   "execution_count": 10,
   "metadata": {},
   "outputs": [
    {
     "name": "stdout",
     "output_type": "stream",
     "text": [
      "Johann Sebastian Bach\n",
      "Ludwig van Beethoven\n",
      "Johannes Brahms\n",
      "Robert Schumann\n",
      "David Nathan\n",
      "Richard Wagner\n",
      "Felix Mendelssohn\n",
      "Rufus Beck\n",
      "Richard Strauss\n",
      "Dietmar Wunder\n",
      "Simon Jäger\n",
      "Georg Philipp Telemann\n",
      "Tangerine Dream\n",
      "James Last\n",
      "Marc Gruppe\n",
      "Detlef Bierstedt\n",
      "Frank Arnold\n",
      "Heino\n",
      "Die drei ???\n",
      "Uve Teschner\n",
      "Scorpions\n",
      "Andreas Fröhlich\n",
      "Michael Schwarzmaier\n",
      "Johannes Steck\n",
      "Howard Carpendale\n"
     ]
    }
   ],
   "source": [
    "# MusicBrainz API endpoint\n",
    "url = 'http://musicbrainz.org/ws/2/artist'\n",
    "\n",
    "# Search parameter\n",
    "params = {'query': 'country:' 'DE', 'fmt': 'json'}\n",
    "\n",
    "# Send Request - Response JSON format\n",
    "response = requests.get(url, params=params).json()\n",
    "\n",
    "for result in response['artists']:\n",
    "    print(result['name'])"
   ]
  }
 ],
 "metadata": {
  "kernelspec": {
   "display_name": ".venv",
   "language": "python",
   "name": "python3"
  },
  "language_info": {
   "codemirror_mode": {
    "name": "ipython",
    "version": 3
   },
   "file_extension": ".py",
   "mimetype": "text/x-python",
   "name": "python",
   "nbconvert_exporter": "python",
   "pygments_lexer": "ipython3",
   "version": "3.11.2"
  },
  "orig_nbformat": 4
 },
 "nbformat": 4,
 "nbformat_minor": 2
}

{
 "cells": [
  {
   "cell_type": "code",
   "execution_count": 39,
   "metadata": {},
   "outputs": [],
   "source": [
    "# Requirements:\n",
    "\n",
    "# pip install spotipy\n",
    "# pip install python-dotenv\n",
    "# pip install reques"
   ]
  },
  {
   "cell_type": "code",
   "execution_count": 40,
   "metadata": {},
   "outputs": [],
   "source": [
    "from dotenv import load_dotenv\n",
    "import os\n",
    "import spotipy\n",
    "from spotipy.oauth2 import SpotifyClientCredentials"
   ]
  },
  {
   "cell_type": "code",
   "execution_count": 41,
   "metadata": {},
   "outputs": [
    {
     "name": "stdout",
     "output_type": "stream",
     "text": [
      "edb4f6f6b7f3450d976e436101337817 edb4f6f6b7f3450d976e436101337817\n"
     ]
    }
   ],
   "source": [
    "load_dotenv()\n",
    "\n",
    "client_id = os.getenv(\"CLIENT_ID\")\n",
    "client_secret = os.getenv(\"CLIENT_SECRET\")\n",
    "\n",
    "# Test if both values are there \n",
    "print(client_id, client_id)"
   ]
  },
  {
   "cell_type": "code",
   "execution_count": 42,
   "metadata": {},
   "outputs": [],
   "source": [
    "# Set up credentials to access Spotify Web API\n",
    "client_credentials_manager = SpotifyClientCredentials(client_id=client_id, client_secret=client_secret)\n",
    "sp = spotipy.Spotify(client_credentials_manager=client_credentials_manager)"
   ]
  },
  {
   "attachments": {},
   "cell_type": "markdown",
   "metadata": {},
   "source": [
    "### Extract German Artists from Spotify"
   ]
  },
  {
   "cell_type": "code",
   "execution_count": 66,
   "metadata": {},
   "outputs": [],
   "source": [
    "# Search for artists with the genre german - Limit set to 50 artists\n",
    "german_artist_search = sp.search(q='genre:german', type='artist', limit=50) #also changed to q='genre:deutsch' did not work well"
   ]
  },
  {
   "cell_type": "code",
   "execution_count": 56,
   "metadata": {},
   "outputs": [
    {
     "name": "stdout",
     "output_type": "stream",
     "text": [
      "Johann Sebastian Bach\n",
      "Zedd\n",
      "Hans Zimmer\n",
      "Milky Chance\n",
      "Ludwig van Beethoven\n",
      "Rammstein\n",
      "Robin Schulz\n",
      "Berliner Philharmoniker\n",
      "Scorpions\n",
      "Felix Jaehn\n",
      "Robert Schumann\n",
      "Johannes Brahms\n",
      "Ramin Djawadi\n",
      "Topic\n",
      "George Frideric Handel\n",
      "Electric Callboy\n",
      "Cascada\n",
      "Powerwolf\n",
      "Zoe Wees\n",
      "Felix Mendelssohn\n",
      "AnnenMayKantereit\n",
      "Klaus Badelt\n",
      "Sierra Kidd\n",
      "VIZE\n",
      "GAMPER & DADONI\n",
      "Michael Schulte\n",
      "Alice Sara Ott\n",
      "Claptone\n",
      "ATB\n",
      "Modern Talking\n",
      "Johann Pachelbel\n",
      "Tensnake\n",
      "Harold Faltermeyer\n",
      "Nena\n",
      "La Bouche\n",
      "Marc Streitenfeld\n",
      "Boris Brejcha\n",
      "Alle Farben\n",
      "Richard Wagner\n",
      "SNAP!\n",
      "Klaas\n",
      "LIZOT\n",
      "Boys Noize\n",
      "Georg Philipp Telemann\n",
      "Bavarian Radio Symphony Orchestra\n",
      "Accept\n",
      "Cosmic Gate\n",
      "Neptunica\n",
      "Real McCoy\n",
      "Marcus Layton\n"
     ]
    }
   ],
   "source": [
    "# Print out each of the 50 artists\n",
    "for artist in german_artist_search['artists']['items']:\n",
    "    print(artist['name'])"
   ]
  },
  {
   "attachments": {},
   "cell_type": "markdown",
   "metadata": {},
   "source": [
    "### Extract German Albums from Spotify"
   ]
  },
  {
   "cell_type": "code",
   "execution_count": 68,
   "metadata": {},
   "outputs": [],
   "source": [
    "# Search for albums with the genre german - Limit set to 50 albums\n",
    "german_album_search = sp.search(q='album:deutsch', type='album', limit=50)"
   ]
  },
  {
   "cell_type": "code",
   "execution_count": 69,
   "metadata": {},
   "outputs": [
    {
     "name": "stdout",
     "output_type": "stream",
     "text": [
      "Tarzan (Deutscher Original Film-Soundtrack)\n",
      "Deutschland\n",
      "Deutsche Marks 3\n",
      "Rewind, Replay, Rebound (Live in Deutschland)\n",
      "Berühmte deutsche Märsche I\n",
      "Deutschrap Hits\n",
      "Die Jahre der Gutsherrin [Die große Deutschland-Saga, Band 1 (Ungekürzt)]\n",
      "Encanto (Deutscher Original Film-Soundtrack)\n",
      "Schubert, F.: Masses Nos. 2 and 4 / Deutsche Messe\n",
      "Im Namen der Gutsherrin [Die große Deutschland-Saga, Band 2 (Ungekürzt)]\n",
      "Brahms: Ein Deutsches Requiem Op.45\n",
      "Deutschland\n",
      "Die Eiskönigin Völlig Unverfroren (Deutscher Original Film Soundtrack)\n",
      "Deutsche Marks 2\n",
      "Die Eiskönigin 2 (Deutscher Original Film-Soundtrack/Deluxe Edition)\n",
      "Sprechen Sie Deutsch, Bitch?\n",
      "Mozart: Deutsche Tänze\n",
      "German Volksongs, Vol. 2 (Die schönsten deutschen Volkslieder - Teil 2)\n",
      "Bunte Rapublik Deutschpunk (Premium Edition)\n",
      "Deutsche Vita\n",
      "Der König der Löwen (Sonderausgabe/Deutscher Original Film-Soundtrack)\n",
      "Deutsches Rave Mädchen\n",
      "Brahms: Ein deutsches Requiem (Live)\n",
      "Vladimir Horowitz - Complete Recordings on Deutsche Grammophon\n",
      "Die schönsten deutschen Kinderlieder\n",
      "Über Israel reden [Eine deutsche Debatte (Ungekürzte Lesung)]\n",
      "Deutsches Marsches [1957]\n",
      "GSG 9 (Ein deutscher Mythos)\n",
      "What Do You Know, Deutschland?\n",
      "Deutsche Marks\n",
      "Deutschland Autobahn\n",
      "1/4 Deutsch\n",
      "Mein Liebes Deutschland\n",
      "Brahms: Ein deutsches Requiem\n",
      "Deutsche Tanzmusik - Alfred Hause Tanzorchester\n",
      "17 Deutsche Tänze\n",
      "Neue deutsche Quelle\n",
      "Die Flamme der Freiheit [Die deutsche Revolution 1848/1849 (Ungekürzte Lesung)]\n",
      "Ein Deutsches Barockrequiem\n",
      "Deutsche Nationalhymne (Deutschlandlied) - Single\n",
      "Kinderlieder Deutsch\n",
      "Hoamatgfui: Die neuen deutschen Liedermacher\n",
      "60 Hits - 60 Jahre Deutschland\n",
      "Deutsch Pop Hits\n",
      "Wellerman Deutsch [Sea Shanty] (Deutsche Version)\n",
      "DEUTSCHRAP BRANDNEU\n",
      "Mulan (Deutscher Original Film-Soundtrack)\n",
      "Ein Produkt der Deutsch-Amerikanischen Freundschaft\n",
      "Deutschrap\n",
      "Minami Deutsch\n"
     ]
    }
   ],
   "source": [
    "# Print out each of the 50 artists\n",
    "for album in german_album_search['albums']['items']:\n",
    "    print(album['name'])"
   ]
  }
 ],
 "metadata": {
  "kernelspec": {
   "display_name": ".venv",
   "language": "python",
   "name": "python3"
  },
  "language_info": {
   "codemirror_mode": {
    "name": "ipython",
    "version": 3
   },
   "file_extension": ".py",
   "mimetype": "text/x-python",
   "name": "python",
   "nbconvert_exporter": "python",
   "pygments_lexer": "ipython3",
   "version": "3.11.2"
  },
  "orig_nbformat": 4
 },
 "nbformat": 4,
 "nbformat_minor": 2
}

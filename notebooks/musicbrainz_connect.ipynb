{
 "cells": [
  {
   "cell_type": "code",
   "execution_count": 1,
   "metadata": {},
   "outputs": [],
   "source": [
    "import requests"
   ]
  },
  {
   "cell_type": "code",
   "execution_count": 10,
   "metadata": {},
   "outputs": [
    {
     "name": "stdout",
     "output_type": "stream",
     "text": [
      "Johann Sebastian Bach\n",
      "Ludwig van Beethoven\n",
      "Johannes Brahms\n",
      "Robert Schumann\n",
      "David Nathan\n",
      "Richard Wagner\n",
      "Felix Mendelssohn\n",
      "Rufus Beck\n",
      "Richard Strauss\n",
      "Dietmar Wunder\n",
      "Simon Jäger\n",
      "Georg Philipp Telemann\n",
      "Tangerine Dream\n",
      "James Last\n",
      "Marc Gruppe\n",
      "Detlef Bierstedt\n",
      "Frank Arnold\n",
      "Heino\n",
      "Die drei ???\n",
      "Uve Teschner\n",
      "Scorpions\n",
      "Andreas Fröhlich\n",
      "Michael Schwarzmaier\n",
      "Johannes Steck\n",
      "Howard Carpendale\n"
     ]
    }
   ],
   "source": [
    "# MusicBrainz API endpoint\n",
    "url = 'http://musicbrainz.org/ws/2/artist'\n",
    "\n",
    "# Search parameter\n",
    "params = {'query': 'country:' 'DE', 'fmt': 'json'}\n",
    "\n",
    "# Send Request - Response JSON format\n",
    "response = requests.get(url, params=params).json()\n",
    "\n",
    "for result in response['artists']:\n",
    "    print(result['name'])"
   ]
  },
  {
   "cell_type": "code",
   "execution_count": 5,
   "metadata": {},
   "outputs": [
    {
     "ename": "ModuleNotFoundError",
     "evalue": "No module named 'musicbrainzngs'",
     "output_type": "error",
     "traceback": [
      "\u001b[1;31m---------------------------------------------------------------------------\u001b[0m",
      "\u001b[1;31mModuleNotFoundError\u001b[0m                       Traceback (most recent call last)",
      "Cell \u001b[1;32mIn[5], line 2\u001b[0m\n\u001b[0;32m      1\u001b[0m \u001b[39m# Import the module\u001b[39;00m\n\u001b[1;32m----> 2\u001b[0m \u001b[39mimport\u001b[39;00m \u001b[39mmusicbrainzngs\u001b[39;00m\n",
      "\u001b[1;31mModuleNotFoundError\u001b[0m: No module named 'musicbrainzngs'"
     ]
    }
   ],
   "source": [
    "# Import the module\n",
    "import musicbrainzngs"
   ]
  },
  {
   "cell_type": "code",
   "execution_count": 6,
   "metadata": {},
   "outputs": [
    {
     "name": "stdout",
     "output_type": "stream",
     "text": [
      "fetching page number 1..\n"
     ]
    },
    {
     "ename": "NameError",
     "evalue": "name 'musicbrainzngs' is not defined",
     "output_type": "error",
     "traceback": [
      "\u001b[1;31m---------------------------------------------------------------------------\u001b[0m",
      "\u001b[1;31mNameError\u001b[0m                                 Traceback (most recent call last)",
      "Cell \u001b[1;32mIn[6], line 7\u001b[0m\n\u001b[0;32m      5\u001b[0m page \u001b[39m=\u001b[39m \u001b[39m1\u001b[39m\n\u001b[0;32m      6\u001b[0m \u001b[39mprint\u001b[39m(\u001b[39m\"\u001b[39m\u001b[39mfetching page number \u001b[39m\u001b[39m%d\u001b[39;00m\u001b[39m..\u001b[39m\u001b[39m\"\u001b[39m \u001b[39m%\u001b[39m page)\n\u001b[1;32m----> 7\u001b[0m result \u001b[39m=\u001b[39m musicbrainzngs\u001b[39m.\u001b[39mbrowse_releases(label\u001b[39m=\u001b[39mlabel, includes\u001b[39m=\u001b[39m[\u001b[39m\"\u001b[39m\u001b[39mlabels\u001b[39m\u001b[39m\"\u001b[39m],\n\u001b[0;32m      8\u001b[0m                 release_type\u001b[39m=\u001b[39m[\u001b[39m\"\u001b[39m\u001b[39malbum\u001b[39m\u001b[39m\"\u001b[39m], limit\u001b[39m=\u001b[39mlimit)\n\u001b[0;32m      9\u001b[0m page_releases \u001b[39m=\u001b[39m result[\u001b[39m'\u001b[39m\u001b[39mrelease-list\u001b[39m\u001b[39m'\u001b[39m]\n\u001b[0;32m     10\u001b[0m releases \u001b[39m+\u001b[39m\u001b[39m=\u001b[39m page_releases\n",
      "\u001b[1;31mNameError\u001b[0m: name 'musicbrainzngs' is not defined"
     ]
    }
   ],
   "source": [
    "label = \"71247f6b-fd24-4a56-89a2-23512f006f0c\"\n",
    "limit = 30\n",
    "offset = 0\n",
    "releases = []\n",
    "page = 1\n",
    "print(\"fetching page number %d..\" % page)\n",
    "result = musicbrainzngs.browse_releases(label=label, includes=[\"labels\"],\n",
    "                release_type=[\"album\"], limit=limit)\n",
    "page_releases = result['release-list']\n",
    "releases += page_releases\n",
    "# release-count is only available starting with musicbrainzngs 0.5\n",
    "if \"release-count\" in result:\n",
    "        count = result['release-count']\n",
    "        print(\"\")\n",
    "while len(page_releases) >= limit:\n",
    "    offset += limit\n",
    "    page += 1\n",
    "    print(\"fetching page number %d..\" % page)\n",
    "    result = musicbrainzngs.browse_releases(label=label, includes=[\"labels\"],\n",
    "                        release_type=[\"album\"], limit=limit, offset=offset)\n",
    "    page_releases = result['release-list']\n",
    "    releases += page_releases\n",
    "print(\"\")\n",
    "for release in releases:\n",
    "    for label_info in release['label-info-list']:\n",
    "        catnum = label_info.get('catalog-number')\n",
    "        if label_info['label']['id'] == label and catnum:\n",
    "            print(\"{catnum:>17}: {date:10} {title}\".format(catnum=catnum,\n",
    "                        date=release['date'], title=release['title']))\n",
    "print(\"\\n%d releases on  %d pages\" % (len(releases), page))"
   ]
  }
 ],
 "metadata": {
  "kernelspec": {
   "display_name": ".venv",
   "language": "python",
   "name": "python3"
  },
  "language_info": {
   "codemirror_mode": {
    "name": "ipython",
    "version": 3
   },
   "file_extension": ".py",
   "mimetype": "text/x-python",
   "name": "python",
   "nbconvert_exporter": "python",
   "pygments_lexer": "ipython3",
   "version": "3.11.2"
  },
  "orig_nbformat": 4
 },
 "nbformat": 4,
 "nbformat_minor": 2
}

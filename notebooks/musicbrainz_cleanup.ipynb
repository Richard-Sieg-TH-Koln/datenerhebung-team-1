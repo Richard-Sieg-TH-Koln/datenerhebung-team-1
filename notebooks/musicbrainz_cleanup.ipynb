{
 "cells": [
  {
   "cell_type": "code",
   "execution_count": 6,
   "metadata": {},
   "outputs": [],
   "source": [
    "import re\n",
    "import pandas as pd"
   ]
  },
  {
   "cell_type": "code",
   "execution_count": 7,
   "metadata": {},
   "outputs": [
    {
     "data": {
      "text/html": [
       "<div>\n",
       "<style scoped>\n",
       "    .dataframe tbody tr th:only-of-type {\n",
       "        vertical-align: middle;\n",
       "    }\n",
       "\n",
       "    .dataframe tbody tr th {\n",
       "        vertical-align: top;\n",
       "    }\n",
       "\n",
       "    .dataframe thead th {\n",
       "        text-align: right;\n",
       "    }\n",
       "</style>\n",
       "<table border=\"1\" class=\"dataframe\">\n",
       "  <thead>\n",
       "    <tr style=\"text-align: right;\">\n",
       "      <th></th>\n",
       "      <th>Overview</th>\n",
       "    </tr>\n",
       "  </thead>\n",
       "  <tbody>\n",
       "    <tr>\n",
       "      <th>0</th>\n",
       "      <td>_preen</td>\n",
       "    </tr>\n",
       "    <tr>\n",
       "      <th>1</th>\n",
       "      <td>-Selektor</td>\n",
       "    </tr>\n",
       "    <tr>\n",
       "      <th>2</th>\n",
       "      <td>-soundso-</td>\n",
       "    </tr>\n",
       "    <tr>\n",
       "      <th>3</th>\n",
       "      <td>-Z-</td>\n",
       "    </tr>\n",
       "    <tr>\n",
       "      <th>4</th>\n",
       "      <td>:Albtraum:</td>\n",
       "    </tr>\n",
       "    <tr>\n",
       "      <th>...</th>\n",
       "      <td>...</td>\n",
       "    </tr>\n",
       "    <tr>\n",
       "      <th>91842</th>\n",
       "      <td>Зенаи́да Па́лли</td>\n",
       "    </tr>\n",
       "    <tr>\n",
       "      <th>91843</th>\n",
       "      <td>рудбой</td>\n",
       "    </tr>\n",
       "    <tr>\n",
       "      <th>91844</th>\n",
       "      <td>Олена Валентинівна Савченко</td>\n",
       "    </tr>\n",
       "    <tr>\n",
       "      <th>91845</th>\n",
       "      <td>Т-34</td>\n",
       "    </tr>\n",
       "    <tr>\n",
       "      <th>91846</th>\n",
       "      <td>コラヌ Kaori</td>\n",
       "    </tr>\n",
       "  </tbody>\n",
       "</table>\n",
       "<p>91847 rows × 1 columns</p>\n",
       "</div>"
      ],
      "text/plain": [
       "                          Overview\n",
       "0                           _preen\n",
       "1                        -Selektor\n",
       "2                        -soundso-\n",
       "3                              -Z-\n",
       "4                       :Albtraum:\n",
       "...                            ...\n",
       "91842              Зенаи́да Па́лли\n",
       "91843                       рудбой\n",
       "91844  Олена Валентинівна Савченко\n",
       "91845                         Т-34\n",
       "91846                    コラヌ Kaori\n",
       "\n",
       "[91847 rows x 1 columns]"
      ]
     },
     "execution_count": 7,
     "metadata": {},
     "output_type": "execute_result"
    }
   ],
   "source": [
    "\n",
    "df = pd.read_csv('musicbrainz_country_de.csv')\n",
    "\n",
    "df"
   ]
  },
  {
   "cell_type": "code",
   "execution_count": 11,
   "metadata": {},
   "outputs": [
    {
     "name": "stdout",
     "output_type": "stream",
     "text": [
      "                          Overview\n",
      "0                           _preen\n",
      "1                        -Selektor\n",
      "2                        -soundso-\n",
      "3                              -Z-\n",
      "4                       :Albtraum:\n",
      "...                            ...\n",
      "91841                      нат.аша\n",
      "91842              Зенаи́да Па́лли\n",
      "91843                       рудбой\n",
      "91844  Олена Валентинівна Савченко\n",
      "91846                    コラヌ Kaori\n",
      "\n",
      "[90595 rows x 1 columns]\n"
     ]
    }
   ],
   "source": [
    "# Filter the DataFrame to exclude entries containing numbers\n",
    "import numpy as np\n",
    "df = df[~df['Overview'].str.contains('\\d', na=False) | df['Overview'].isnull()]\n",
    "\n",
    "print(df)"
   ]
  },
  {
   "cell_type": "code",
   "execution_count": 14,
   "metadata": {},
   "outputs": [
    {
     "name": "stdout",
     "output_type": "stream",
     "text": [
      "                     Overview\n",
      "19            Marietta Slomka\n",
      "100                  Overview\n",
      "201                  Overview\n",
      "302                  Overview\n",
      "362    The Psychotic Reaction\n",
      "...                       ...\n",
      "91827                    ZyRo\n",
      "91829              ZyteArbyte\n",
      "91830                     ZZT\n",
      "91831           ZZup Comanche\n",
      "91832              ZZZ Hacker\n",
      "\n",
      "[82075 rows x 1 columns]\n"
     ]
    }
   ],
   "source": [
    "df = df[~df['Overview'].apply(lambda x: bool(re.search('[^a-zA-ZäöüÄÖÜß\\s]', str(x))))]\n",
    "\n",
    "print(df)"
   ]
  },
  {
   "cell_type": "code",
   "execution_count": 15,
   "metadata": {},
   "outputs": [
    {
     "name": "stdout",
     "output_type": "stream",
     "text": [
      "                     Overview\n",
      "19            Marietta Slomka\n",
      "100                  Overview\n",
      "201                       NaN\n",
      "302                       NaN\n",
      "362    The Psychotic Reaction\n",
      "...                       ...\n",
      "91827                    ZyRo\n",
      "91829              ZyteArbyte\n",
      "91830                     ZZT\n",
      "91831           ZZup Comanche\n",
      "91832              ZZZ Hacker\n",
      "\n",
      "[82075 rows x 1 columns]\n"
     ]
    },
    {
     "name": "stderr",
     "output_type": "stream",
     "text": [
      "C:\\Users\\matth\\AppData\\Local\\Temp\\ipykernel_9328\\3543233915.py:1: SettingWithCopyWarning: \n",
      "A value is trying to be set on a copy of a slice from a DataFrame.\n",
      "Try using .loc[row_indexer,col_indexer] = value instead\n",
      "\n",
      "See the caveats in the documentation: https://pandas.pydata.org/pandas-docs/stable/user_guide/indexing.html#returning-a-view-versus-a-copy\n",
      "  df['Overview'] = df['Overview'].drop_duplicates()\n"
     ]
    }
   ],
   "source": [
    "df['Overview'] = df['Overview'].drop_duplicates()\n",
    "\n",
    "print(df)"
   ]
  },
  {
   "cell_type": "code",
   "execution_count": 16,
   "metadata": {},
   "outputs": [
    {
     "name": "stdout",
     "output_type": "stream",
     "text": [
      "                       Overview\n",
      "19              Marietta Slomka\n",
      "100                    Overview\n",
      "362      The Psychotic Reaction\n",
      "442          A Bit of Braindead\n",
      "443    A brilliantine mortality\n",
      "...                         ...\n",
      "91827                      ZyRo\n",
      "91829                ZyteArbyte\n",
      "91830                       ZZT\n",
      "91831             ZZup Comanche\n",
      "91832                ZZZ Hacker\n",
      "\n",
      "[78836 rows x 1 columns]\n"
     ]
    }
   ],
   "source": [
    "# Remove entries with NaN or None values from the 'Overview' column\n",
    "df = df.dropna(subset=['Overview'])\n",
    "\n",
    "print(df)"
   ]
  },
  {
   "cell_type": "code",
   "execution_count": 18,
   "metadata": {},
   "outputs": [
    {
     "data": {
      "text/html": [
       "<div>\n",
       "<style scoped>\n",
       "    .dataframe tbody tr th:only-of-type {\n",
       "        vertical-align: middle;\n",
       "    }\n",
       "\n",
       "    .dataframe tbody tr th {\n",
       "        vertical-align: top;\n",
       "    }\n",
       "\n",
       "    .dataframe thead th {\n",
       "        text-align: right;\n",
       "    }\n",
       "</style>\n",
       "<table border=\"1\" class=\"dataframe\">\n",
       "  <thead>\n",
       "    <tr style=\"text-align: right;\">\n",
       "      <th></th>\n",
       "      <th>Overview</th>\n",
       "    </tr>\n",
       "  </thead>\n",
       "  <tbody>\n",
       "    <tr>\n",
       "      <th>19</th>\n",
       "      <td>Marietta Slomka</td>\n",
       "    </tr>\n",
       "    <tr>\n",
       "      <th>100</th>\n",
       "      <td>Overview</td>\n",
       "    </tr>\n",
       "    <tr>\n",
       "      <th>362</th>\n",
       "      <td>The Psychotic Reaction</td>\n",
       "    </tr>\n",
       "    <tr>\n",
       "      <th>442</th>\n",
       "      <td>A Bit of Braindead</td>\n",
       "    </tr>\n",
       "    <tr>\n",
       "      <th>443</th>\n",
       "      <td>A brilliantine mortality</td>\n",
       "    </tr>\n",
       "    <tr>\n",
       "      <th>...</th>\n",
       "      <td>...</td>\n",
       "    </tr>\n",
       "    <tr>\n",
       "      <th>91827</th>\n",
       "      <td>ZyRo</td>\n",
       "    </tr>\n",
       "    <tr>\n",
       "      <th>91829</th>\n",
       "      <td>ZyteArbyte</td>\n",
       "    </tr>\n",
       "    <tr>\n",
       "      <th>91830</th>\n",
       "      <td>ZZT</td>\n",
       "    </tr>\n",
       "    <tr>\n",
       "      <th>91831</th>\n",
       "      <td>ZZup Comanche</td>\n",
       "    </tr>\n",
       "    <tr>\n",
       "      <th>91832</th>\n",
       "      <td>ZZZ Hacker</td>\n",
       "    </tr>\n",
       "  </tbody>\n",
       "</table>\n",
       "<p>78836 rows × 1 columns</p>\n",
       "</div>"
      ],
      "text/plain": [
       "                       Overview\n",
       "19              Marietta Slomka\n",
       "100                    Overview\n",
       "362      The Psychotic Reaction\n",
       "442          A Bit of Braindead\n",
       "443    A brilliantine mortality\n",
       "...                         ...\n",
       "91827                      ZyRo\n",
       "91829                ZyteArbyte\n",
       "91830                       ZZT\n",
       "91831             ZZup Comanche\n",
       "91832                ZZZ Hacker\n",
       "\n",
       "[78836 rows x 1 columns]"
      ]
     },
     "execution_count": 18,
     "metadata": {},
     "output_type": "execute_result"
    }
   ],
   "source": [
    "df['Overview'] = df['Overview'].drop_duplicates()\n",
    "df\n"
   ]
  },
  {
   "cell_type": "code",
   "execution_count": 19,
   "metadata": {},
   "outputs": [],
   "source": [
    "df.to_csv('filtered_data.csv', index=False)"
   ]
  },
  {
   "cell_type": "code",
   "execution_count": null,
   "metadata": {},
   "outputs": [],
   "source": []
  }
 ],
 "metadata": {
  "kernelspec": {
   "display_name": "env",
   "language": "python",
   "name": "python3"
  },
  "language_info": {
   "codemirror_mode": {
    "name": "ipython",
    "version": 3
   },
   "file_extension": ".py",
   "mimetype": "text/x-python",
   "name": "python",
   "nbconvert_exporter": "python",
   "pygments_lexer": "ipython3",
   "version": "3.10.10"
  },
  "orig_nbformat": 4
 },
 "nbformat": 4,
 "nbformat_minor": 2
}

{
 "cells": [
  {
   "cell_type": "code",
   "execution_count": null,
   "metadata": {},
   "outputs": [],
   "source": [
    "#https://www.jcchouinard.com/wikidata-api-python/\n",
    "#https://qwikidata.readthedocs.io/en/stable/readme.html"
   ]
  },
  {
   "cell_type": "code",
   "execution_count": null,
   "metadata": {},
   "outputs": [],
   "source": [
    "#Datensatz  Wolfgang Petry (Rotkohl)\n",
    "#schauen, ob artist = full_title &\n",
    "#release_year = release_date_for_display"
   ]
  }
 ],
 "metadata": {
  "language_info": {
   "name": "python"
  },
  "orig_nbformat": 4
 },
 "nbformat": 4,
 "nbformat_minor": 2
}

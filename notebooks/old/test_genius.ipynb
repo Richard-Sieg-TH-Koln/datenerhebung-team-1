{
 "cells": [
  {
   "cell_type": "code",
   "execution_count": 1,
   "metadata": {},
   "outputs": [],
   "source": [
    "import lyricsgenius\n",
    "token = \"aCR_2MFW9c27A8yjxOWlsCfqywd5w1KzwBZJMqncj4psGS0pPdcGzIv05TfkrKIG\"\n",
    "genius = lyricsgenius.Genius(token)"
   ]
  },
  {
   "cell_type": "code",
   "execution_count": 2,
   "metadata": {},
   "outputs": [
    {
     "name": "stdout",
     "output_type": "stream",
     "text": [
      "Searching for songs by Andy Shauf...\n",
      "\n",
      "Song 1: \"Alexander All Alone\"\n",
      "Song 2: \"All Of My Love\"\n",
      "Song 3: \"All the Same\"\n",
      "\n",
      "Reached user-specified song limit (3).\n",
      "Done. Found 3 songs.\n",
      "[Song(id, artist, ...), Song(id, artist, ...), Song(id, artist, ...)]\n"
     ]
    }
   ],
   "source": [
    "artist = genius.search_artist(\"Andy Shauf\", max_songs=3, sort=\"title\")\n",
    "print(artist.songs)"
   ]
  },
  {
   "cell_type": "code",
   "execution_count": 3,
   "metadata": {},
   "outputs": [
    {
     "name": "stdout",
     "output_type": "stream",
     "text": [
      "Searching for songs by 187Straßenbande...\n",
      "\n",
      "Changing artist name to '187 Strassenbande'\n",
      "Song 1: \"100er Batzen\"\n",
      "\"100 (Instrumental)\" is not valid. Skipping.\n",
      "\"100 Round Drum (Instrumental)\" is not valid. Skipping.\n",
      "Song 2: \"10 Dinger\"\n",
      "Song 3: \"10 Jahre\"\n",
      "\"10 Jahre (Instrumental)\" is not valid. Skipping.\n",
      "\"1 Joint (Instrumental)\" is not valid. Skipping.\n",
      "\"1ne Million (Instrumental)\" is not valid. Skipping.\n",
      "\"20539 (Instrumental)\" is not valid. Skipping.\n",
      "Song 4: \"24/7\"\n",
      "Song 5: \"30er Zone\"\n",
      "\"365 (Instrumental)\" is not valid. Skipping.\n",
      "\"500 PS (Instrumental)\" is not valid. Skipping.\n",
      "Song 6: \"95 - 09\"\n",
      "\"9mm  (Instrumental)\" is not valid. Skipping.\n",
      "\"Action (Instrumental)\" is not valid. Skipping.\n",
      "\"Alien (Instrumental)\" is not valid. Skipping.\n",
      "\"Alles echt (Instrumental)\" is not valid. Skipping.\n",
      "Song 7: \"Alles nach Plan\"\n",
      "\"Alles okay (Instrumental)\" is not valid. Skipping.\n",
      "Song 8: \"Allstars 2010\"\n",
      "Song 9: \"Allstars 2012\"\n",
      "Song 10: \"Allstars 2013\"\n",
      "\n",
      "Reached user-specified song limit (10).\n",
      "Done. Found 10 songs.\n",
      "[Song(id, artist, ...), Song(id, artist, ...), Song(id, artist, ...), Song(id, artist, ...), Song(id, artist, ...), Song(id, artist, ...), Song(id, artist, ...), Song(id, artist, ...), Song(id, artist, ...), Song(id, artist, ...)]\n"
     ]
    }
   ],
   "source": [
    "artist = genius.search_artist(\"187Straßenbande\", max_songs=10, sort=\"title\")\n",
    "print(artist.songs)"
   ]
  },
  {
   "cell_type": "code",
   "execution_count": 4,
   "metadata": {},
   "outputs": [
    {
     "name": "stdout",
     "output_type": "stream",
     "text": [
      "Searching for songs by Andy Shauf...\n",
      "\n",
      "Song 1: \"Alexander All Alone\"\n",
      "Song 2: \"All Of My Love\"\n",
      "Song 3: \"All the Same\"\n",
      "\n",
      "Reached user-specified song limit (3).\n",
      "Done. Found 3 songs.\n",
      "[Song(id, artist, ...), Song(id, artist, ...), Song(id, artist, ...)]\n"
     ]
    }
   ],
   "source": [
    "artist = genius.search_artist(\"Andy Shauf\", max_songs=3, sort=\"title\", include_features=True)\n",
    "print(artist.songs)"
   ]
  },
  {
   "cell_type": "code",
   "execution_count": 5,
   "metadata": {},
   "outputs": [
    {
     "name": "stdout",
     "output_type": "stream",
     "text": [
      "Searching for \"To You\" by Andy Shauf...\n",
      "Done.\n",
      "To You LyricsJeremy, can we talk a minute?\n",
      "I've got some things that I need to\n",
      "Get off of my chest\n",
      "\n",
      "I know that we've had a few\n",
      "And it's far too late\n",
      "But if I wait, I might never tell you\n",
      "Can we find somewhere quiet?\n",
      "Let's go outside\n",
      "I've got some smokes if you've got a light\n",
      "It's just that sometimes when I'm by your side\n",
      "It feels so right\n",
      "It feels like nothing could go wrong\n",
      "Does it ever\n",
      "Feel like that to you?\n",
      "Does it ever\n",
      "Feel like that to you?\n",
      "Oh, I don't know what I mean\n",
      "It sounded wrong and I'm just tired\n",
      "Not being weird\n",
      "I just mean that you're a good friend\n",
      "It's hard to explain\n",
      "Just forget I said anything\n",
      "Get over yourself\n",
      "I'm not in love with you\n",
      "It just came out all wrong\n",
      "Yeah\n",
      "Tell the guys and laugh it up\n",
      "Why am I even surprised?\n",
      "That it never\n",
      "Feels like that to you\n",
      "That it never\n",
      "Feels like that to you\n",
      "I guess it never\n",
      "Feels like that to you\n",
      "I guess it never\n",
      "Feels like that to youYou might also likeEmbed\n"
     ]
    }
   ],
   "source": [
    "song = artist.song(\"To You\")\n",
    "# or:\n",
    "# song = genius.search_song(\"To You\", artist.name)\n",
    "print(song.lyrics)"
   ]
  },
  {
   "cell_type": "code",
   "execution_count": 6,
   "metadata": {},
   "outputs": [
    {
     "data": {
      "text/plain": [
       "Song(id, artist, ...)"
      ]
     },
     "execution_count": 6,
     "metadata": {},
     "output_type": "execute_result"
    }
   ],
   "source": [
    "artist.add_song(song)\n",
    "# the Artist object also accepts song names:\n",
    "# artist.add_song(\"To You\")"
   ]
  },
  {
   "cell_type": "code",
   "execution_count": 7,
   "metadata": {},
   "outputs": [
    {
     "name": "stdout",
     "output_type": "stream",
     "text": [
      "Wrote Lyrics_AndyShauf.json.\n"
     ]
    }
   ],
   "source": [
    "artist.save_lyrics()"
   ]
  },
  {
   "cell_type": "code",
   "execution_count": 8,
   "metadata": {},
   "outputs": [
    {
     "name": "stdout",
     "output_type": "stream",
     "text": [
      "Searching for \"The Party\" by Andy Shauf...\n",
      "Wrote Lyrics_TheParty.json.\n"
     ]
    }
   ],
   "source": [
    "album = genius.search_album(\"The Party\", \"Andy Shauf\")\n",
    "album.save_lyrics()"
   ]
  },
  {
   "cell_type": "code",
   "execution_count": 9,
   "metadata": {},
   "outputs": [
    {
     "name": "stdout",
     "output_type": "stream",
     "text": [
      "Searching for \"Stadtaffe\" by Peter Fox...\n"
     ]
    }
   ],
   "source": [
    "album2 = genius.search_album(\"Stadtaffe\", \"Peter Fox\")"
   ]
  },
  {
   "cell_type": "code",
   "execution_count": 10,
   "metadata": {},
   "outputs": [
    {
     "name": "stdout",
     "output_type": "stream",
     "text": [
      "Album(id, artist, ...)\n"
     ]
    }
   ],
   "source": [
    "print(album2)"
   ]
  },
  {
   "cell_type": "code",
   "execution_count": 11,
   "metadata": {},
   "outputs": [
    {
     "name": "stdout",
     "output_type": "stream",
     "text": [
      "Wrote Lyrics_Stadtaffe.json.\n"
     ]
    }
   ],
   "source": [
    "album2.save_lyrics()"
   ]
  },
  {
   "cell_type": "code",
   "execution_count": null,
   "metadata": {},
   "outputs": [],
   "source": []
  }
 ],
 "metadata": {
  "kernelspec": {
   "display_name": "env",
   "language": "python",
   "name": "python3"
  },
  "language_info": {
   "codemirror_mode": {
    "name": "ipython",
    "version": 3
   },
   "file_extension": ".py",
   "mimetype": "text/x-python",
   "name": "python",
   "nbconvert_exporter": "python",
   "pygments_lexer": "ipython3",
   "version": "3.10.10"
  },
  "orig_nbformat": 4,
  "vscode": {
   "interpreter": {
    "hash": "ec7e4874d9050081ed703dd9af4d96ba4f96a1a16ef5ccea03e1680d13947961"
   }
  }
 },
 "nbformat": 4,
 "nbformat_minor": 2
}

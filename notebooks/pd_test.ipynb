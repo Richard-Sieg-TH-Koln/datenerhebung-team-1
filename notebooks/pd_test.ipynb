{
 "cells": [
  {
   "cell_type": "code",
   "execution_count": 7,
   "metadata": {},
   "outputs": [
    {
     "name": "stdout",
     "output_type": "stream",
     "text": [
      "         genre       interpret    album  release_year  \\\n",
      "0          Pop      Adel Tawil   Lieder          2013   \n",
      "1          Pop      Adel Tawil   Lieder          2013   \n",
      "2          Pop      Adel Tawil   Lieder          2013   \n",
      "3          Pop      Adel Tawil   Lieder          2013   \n",
      "4          Pop      Adel Tawil   Lieder          2013   \n",
      "...        ...             ...      ...           ...   \n",
      "4632  Schlager  Wolfgang Petry  Typisch          2004   \n",
      "4633  Schlager  Wolfgang Petry  Typisch          2004   \n",
      "4634  Schlager  Wolfgang Petry  Typisch          2004   \n",
      "4635  Schlager  Wolfgang Petry  Typisch          2004   \n",
      "4636  Schlager  Wolfgang Petry  Typisch          2004   \n",
      "\n",
      "                               songtitle  decade  \n",
      "0                               Immer da    2010  \n",
      "1                         Wenn Du liebst    2010  \n",
      "2                                 Lieder    2010  \n",
      "3                                 Weinen    2010  \n",
      "4                           Unter Wasser    2010  \n",
      "...                                  ...     ...  \n",
      "4632                              Gut so    2000  \n",
      "4633             Mit dir geh ich den Weg    2000  \n",
      "4634                        Papperlapapp    2000  \n",
      "4635  Wir sind noch lange nicht im Eimer    2000  \n",
      "4636                         Altes Eisen    2000  \n",
      "\n",
      "[4637 rows x 6 columns]\n"
     ]
    }
   ],
   "source": [
    "import pandas as pd\n",
    "df = pd.read_csv('all.csv')\n",
    "print(df)"
   ]
  },
  {
   "cell_type": "code",
   "execution_count": null,
   "metadata": {},
   "outputs": [],
   "source": []
  }
 ],
 "metadata": {
  "kernelspec": {
   "display_name": "Python 3",
   "language": "python",
   "name": "python3"
  },
  "language_info": {
   "codemirror_mode": {
    "name": "ipython",
    "version": 3
   },
   "file_extension": ".py",
   "mimetype": "text/x-python",
   "name": "python",
   "nbconvert_exporter": "python",
   "pygments_lexer": "ipython3",
   "version": "3.10.4"
  },
  "orig_nbformat": 4
 },
 "nbformat": 4,
 "nbformat_minor": 2
}
